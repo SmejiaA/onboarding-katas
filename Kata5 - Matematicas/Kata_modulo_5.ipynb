{
 "cells": [
  {
   "cell_type": "markdown",
   "metadata": {},
   "source": [
    "Ejercicio1"
   ]
  },
  {
   "cell_type": "code",
   "execution_count": 6,
   "metadata": {},
   "outputs": [
    {
     "name": "stdout",
     "output_type": "stream",
     "text": [
      "629000000\n",
      "390609000.0\n",
      "-33879\n",
      "21038.859\n"
     ]
    }
   ],
   "source": [
    "earth = 778600000\n",
    "jypiter = 149600000\n",
    "\n",
    "distance = earth - jypiter\n",
    "print(distance)\n",
    "\n",
    "distance_mi = distance * 0.621\n",
    "print(distance_mi)\n",
    "first_planet = input('Enter first distance on KM')\n",
    "second_planet = input('Enter second distance on KM')\n",
    "\n",
    "first_planet = int(first_planet)\n",
    "second_planet = int(second_planet)\n",
    "distance = second_planet - first_planet\n",
    "print(distance)\n",
    "\n",
    "distance_mi = distance * 0.621\n",
    "print(abs(distance_mi))"
   ]
  }
 ],
 "metadata": {
  "interpreter": {
   "hash": "aee8b7b246df8f9039afb4144a1f6fd8d2ca17a180786b69acc140d282b71a49"
  },
  "kernelspec": {
   "display_name": "Python 3.8.0 64-bit",
   "language": "python",
   "name": "python3"
  },
  "language_info": {
   "codemirror_mode": {
    "name": "ipython",
    "version": 3
   },
   "file_extension": ".py",
   "mimetype": "text/x-python",
   "name": "python",
   "nbconvert_exporter": "python",
   "pygments_lexer": "ipython3",
   "version": "3.8.0"
  },
  "orig_nbformat": 4
 },
 "nbformat": 4,
 "nbformat_minor": 2
}
